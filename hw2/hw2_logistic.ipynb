{
 "cells": [
  {
   "cell_type": "code",
   "execution_count": 210,
   "metadata": {
    "collapsed": true
   },
   "outputs": [],
   "source": [
    "import pandas as pd\n",
    "import numpy as np\n",
    "import scipy as cp\n",
    "from matplotlib import pyplot as plt\n",
    "import sys\n",
    "from math import floor "
   ]
  },
  {
   "cell_type": "code",
   "execution_count": 211,
   "metadata": {
    "collapsed": false
   },
   "outputs": [],
   "source": [
    "def data_split(s1,s2,data):\n",
    "    return np.vstack([data[:s1],data[s2:]]) ,data[s1:s2]"
   ]
  },
  {
   "cell_type": "code",
   "execution_count": 212,
   "metadata": {
    "collapsed": true
   },
   "outputs": [],
   "source": [
    "def Accuracy(Xva,Yva,b,w):\n",
    "    result = b+np.dot(Xva,w)\n",
    "    result = np.clip(1/(1+np.exp(-result)),0.000000000001,0.99999999999)\n",
    "    correct = 0\n",
    "    for i in range(len(Xva)):\n",
    "        if result[i] >= 0.5:\n",
    "            if Yva[i] ==1:\n",
    "                correct = correct+1\n",
    "        else:\n",
    "            if Yva[i] ==0:\n",
    "                correct = correct+1\n",
    "                \n",
    "    accuracy = correct/len(Yva)\n",
    "    return accuracy\n",
    "    "
   ]
  },
  {
   "cell_type": "code",
   "execution_count": 213,
   "metadata": {
    "collapsed": false
   },
   "outputs": [],
   "source": [
    "def fscaling(data):\n",
    "    N = data.T\n",
    "    f =  1/(np.max(N[0])-np.min(N[0]))\n",
    "    for i in range(len(data)):\n",
    "        data[i,0]= (data[i,0]-np.min(N[0]))*f\n",
    "        \n",
    "    f =  1/(np.max(N[1])-np.min(N[1]))\n",
    "    for i in range(len(data)):\n",
    "        data[i,1]= (data[i,1]-np.min(N[1]))*f\n",
    "    \n",
    "    f =  1/(np.max(N[3])-np.min(N[3]))\n",
    "    for i in range(len(data)):\n",
    "        data[i,3]= (data[i,3]-np.min(N[3]))*f\n",
    "    \n",
    "    f =  1/(np.max(N[4])-np.min(N[4]))\n",
    "    for i in range(len(data)):\n",
    "        data[i,4]= (data[i,4]-np.min(N[4]))*f\n",
    "    \n",
    "    f =  1/(np.max(N[5])-np.min(N[5]))\n",
    "    for i in range(len(data)):\n",
    "        data[i,5]= (data[i,5]-np.min(N[5]))*f\n",
    "    return data"
   ]
  },
  {
   "cell_type": "code",
   "execution_count": 214,
   "metadata": {
    "collapsed": true
   },
   "outputs": [],
   "source": [
    "def shuffle(X,Y):\n",
    "    rand = np.arange(len(X))\n",
    "    np.random.shuffle(rand)\n",
    "    return (X[rand],Y[rand])"
   ]
  },
  {
   "cell_type": "code",
   "execution_count": 215,
   "metadata": {
    "collapsed": true
   },
   "outputs": [],
   "source": [
    "def feature_filter(Xtr,col):\n",
    "    return np.delete(Xtr,col,axis = 1)"
   ]
  },
  {
   "cell_type": "code",
   "execution_count": 216,
   "metadata": {
    "collapsed": false
   },
   "outputs": [],
   "source": [
    "def train(Xtr,Ytr):\n",
    "    datalength = len(Xtr)\n",
    "    fnumber = len(Xtr[0])\n",
    "    b = 0\n",
    "    w = np.zeros(fnumber)\n",
    "    lr = 10\n",
    "    b_lr = 0\n",
    "    w_lr = np.zeros(fnumber)\n",
    "    lamda = 0.001\n",
    "    iteration = 10000\n",
    "    it_his = []\n",
    "    ac_his = []\n",
    "    \n",
    "    batch_size = datalength\n",
    "    batch_num = int(floor(datalength / batch_size))\n",
    "    display_num = 1000\n",
    "\n",
    "    for it in range(iteration):\n",
    "        Xtr, Ytr = shuffle(Xtr, Ytr)\n",
    "        for bn in range(batch_num):\n",
    "            \n",
    "            b_grad = 0\n",
    "            w_grad = np.zeros(fnumber)\n",
    "            X = Xtr[bn*batch_size:(bn+1)*batch_size]\n",
    "            Y = Ytr[bn*batch_size:(bn+1)*batch_size]\n",
    "        \n",
    "            #z = b+np.dot(Xtr,w)\n",
    "            z = b+np.dot(X,w)\n",
    "            sigmoid = np.clip(1/(1+np.exp(-z)),0.000000000001,0.99999999999)\n",
    "            \n",
    "            w_grad = -np.dot(X.T,(Y-sigmoid.T)) + 2*lamda*w+0.0000000000000000000001\n",
    "            b_grad = -np.sum((Y-sigmoid.T))\n",
    "            \n",
    "            \n",
    "            \n",
    "            #adagrad\n",
    "            b_lr = b_lr+b_grad**2\n",
    "            w_lr = w_lr+w_grad**2\n",
    "            b = b - lr/np.sqrt(b_lr) * b_grad\n",
    "            w = w - lr/np.sqrt(w_lr) * w_grad\n",
    "            \n",
    "        if it%display_num == 0:\n",
    "            ac = Accuracy(Xtr,Ytr,b,w)\n",
    "            print('iter:',it)\n",
    "            print('Accuracy:',ac)\n",
    "            it_his.append(it)\n",
    "            ac_his.append(ac)\n",
    "        #if Accuracy(Xtr,Ytr,b,w)> 0.858:\n",
    "            #return b,w\n",
    "        \n",
    "    return b,w,it_his,ac_his"
   ]
  },
  {
   "cell_type": "code",
   "execution_count": 279,
   "metadata": {
    "collapsed": false
   },
   "outputs": [],
   "source": [
    "s1 = 2000\n",
    "s2 = 8500\n",
    "#col = [i for i in range(32,38)]  #drop marry situation\n",
    "col = [i for i in range(15,21)] #from\n",
    "#col = 2\n",
    "#batch_num = 10"
   ]
  },
  {
   "cell_type": "code",
   "execution_count": 280,
   "metadata": {
    "collapsed": false
   },
   "outputs": [],
   "source": [
    "X = pd.read_csv('X_train.csv',encoding = 'big5')\n",
    "Y = pd.read_csv('Y_train.csv',encoding = 'big5',names = ['haha'])\n",
    "X = np.array(X,float)\n",
    "Y = np.array(Y,float)\n",
    "[X,Y] = shuffle(X,Y)\n",
    "[Xtr,Xva] = data_split(s1,s2,X)\n",
    "[Ytr,Yva] = data_split(s1,s2,Y)\n",
    "Ytr = np.reshape(Ytr,(len(Ytr)))\n",
    "Yva = np.reshape(Yva,(len(Yva)))\n",
    "\n"
   ]
  },
  {
   "cell_type": "code",
   "execution_count": 281,
   "metadata": {
    "collapsed": false
   },
   "outputs": [],
   "source": [
    "Xtr = fscaling(Xtr)\n",
    "Xtr = feature_filter(Xtr,col)\n",
    "\n",
    "Xva = fscaling(Xva)\n",
    "Xva = feature_filter(Xva,col)"
   ]
  },
  {
   "cell_type": "code",
   "execution_count": 282,
   "metadata": {
    "collapsed": false,
    "scrolled": true
   },
   "outputs": [
    {
     "name": "stdout",
     "output_type": "stream",
     "text": [
      "iter: 0\n",
      "Accuracy: 0.758719926326695\n",
      "iter: 1000\n",
      "Accuracy: 0.8351176086873106\n",
      "iter: 2000\n",
      "Accuracy: 0.8460534898891063\n",
      "iter: 3000\n",
      "Accuracy: 0.8499673842139596\n",
      "iter: 4000\n",
      "Accuracy: 0.8523080465062738\n",
      "iter: 5000\n",
      "Accuracy: 0.8523080465062738\n",
      "iter: 6000\n",
      "Accuracy: 0.8526533901231725\n",
      "iter: 7000\n",
      "Accuracy: 0.8529603622270826\n",
      "iter: 8000\n",
      "Accuracy: 0.8531905913050152\n",
      "iter: 9000\n",
      "Accuracy: 0.8531522197920264\n"
     ]
    }
   ],
   "source": [
    "\n",
    "[b,w,it,Ac] = train(Xtr,Ytr)\n",
    "    "
   ]
  },
  {
   "cell_type": "code",
   "execution_count": 283,
   "metadata": {
    "collapsed": false,
    "scrolled": true
   },
   "outputs": [
    {
     "name": "stdout",
     "output_type": "stream",
     "text": [
      "Bias : -1.30561622353\n",
      "Weight: [  1.88141747   1.11507944   0.8990794   31.19020802   2.78483068\n",
      "   2.90732015   0.25665213  -0.55282674 -10.57520347  -0.30959318\n",
      "  -0.19038996  -0.81576818  -0.57121642 -17.35186848  -1.18974534\n",
      "  -0.04422897   1.32126202   1.43358511   1.97782723   2.9940271\n",
      "   0.83778359   2.3817434  -26.88460146   2.83514992   1.19337756\n",
      "  -1.68915312   0.19042253   0.36646114  -1.63279517  -2.17316969\n",
      "  -1.86265851  -1.56620755  -1.34318391 -17.06100153  -1.24268382\n",
      "  -0.51167352  -2.32355567  -1.91594591  -1.54231275  -2.11663536\n",
      "  -4.96907689  -0.83327171  -0.69362224  -1.05761491  -0.71240141\n",
      "  -1.48846849  -1.22147675  -0.41671469   0.04090312  -0.71502935\n",
      "  -1.08958816  -0.07772777   1.0223105   -1.78127342  -0.98053572\n",
      "  -1.39025998  -1.90554998  -1.17463457  -0.30544458  -1.03329396\n",
      "  -1.93230933  -4.16083268  -1.07086123 -11.45006566  -2.52283389\n",
      "  -1.93654491  -0.94147651  -0.86827538  -0.82270543  -2.17695861\n",
      "  -2.19327343  -1.60111926 -10.52089334  -2.56688205  -1.5215402\n",
      "  -0.88969791  -2.0997328   -1.33248954  -0.72555314  -0.51681744\n",
      "  -1.29494339  -1.05938844  -1.86982053  -1.8977529   -1.64183006\n",
      " -14.81703318  -2.05211878  -1.07691867  -1.44920554  -1.63218274\n",
      "  -1.50002474  -1.4219092   -2.62939228  -1.03782776  -2.32309118\n",
      " -16.85560333  -1.12983946  -2.807863    -0.50292095  -1.63271282]\n"
     ]
    }
   ],
   "source": [
    "print('Bias :',b)\n",
    "print('Weight:',w)"
   ]
  },
  {
   "cell_type": "code",
   "execution_count": 285,
   "metadata": {
    "collapsed": false,
    "scrolled": true
   },
   "outputs": [
    {
     "data": {
      "text/plain": [
       "0.8532289628180039"
      ]
     },
     "execution_count": 285,
     "metadata": {},
     "output_type": "execute_result"
    }
   ],
   "source": [
    "print('Training Accuracy:',Accuracy(Xtr,Ytr,b,w))"
   ]
  },
  {
   "cell_type": "code",
   "execution_count": 286,
   "metadata": {
    "collapsed": false
   },
   "outputs": [
    {
     "data": {
      "text/plain": [
       "0.8529230769230769"
      ]
     },
     "execution_count": 286,
     "metadata": {},
     "output_type": "execute_result"
    }
   ],
   "source": [
    "print('Training Accuracy:',Accuracy(Xva,Yva,b,w))"
   ]
  },
  {
   "cell_type": "code",
   "execution_count": 275,
   "metadata": {
    "collapsed": false
   },
   "outputs": [],
   "source": [
    "Xte = pd.read_csv('X_test.csv',encoding ='big5')\n",
    "Xte = np.array(Xte,float)\n",
    "Xte = fscaling(Xte)\n",
    "Xte = feature_filter(Xte,col)"
   ]
  },
  {
   "cell_type": "code",
   "execution_count": 276,
   "metadata": {
    "collapsed": false
   },
   "outputs": [],
   "source": [
    "result = b + np.dot(Xte,w)\n",
    "result = np.clip(1/(1+np.exp(-result)),0.000000000001,0.99999999999)\n",
    "Result = np.zeros(len(Xte),int)\n",
    "for i in range(len(Xte)):\n",
    "        if result[i] >= 0.5:\n",
    "            Result[i]=1      \n",
    "        else:\n",
    "            Result[i]=0  "
   ]
  },
  {
   "cell_type": "code",
   "execution_count": 277,
   "metadata": {
    "collapsed": false,
    "scrolled": true
   },
   "outputs": [],
   "source": [
    "final = []\n",
    "num=1\n",
    "while num <= len(Xte):\n",
    "    final.append([str(num),Result[num-1]])\n",
    "    num = num+1"
   ]
  },
  {
   "cell_type": "code",
   "execution_count": 278,
   "metadata": {
    "collapsed": false
   },
   "outputs": [
    {
     "name": "stdout",
     "output_type": "stream",
     "text": [
      "          id  label\n",
      "0          1      0\n",
      "1          2      0\n",
      "2          3      0\n",
      "3          4      1\n",
      "4          5      0\n",
      "5          6      0\n",
      "6          7      0\n",
      "7          8      1\n",
      "8          9      0\n",
      "9         10      0\n",
      "10        11      1\n",
      "11        12      1\n",
      "12        13      0\n",
      "13        14      0\n",
      "14        15      1\n",
      "15        16      1\n",
      "16        17      0\n",
      "17        18      0\n",
      "18        19      0\n",
      "19        20      1\n",
      "20        21      1\n",
      "21        22      0\n",
      "22        23      0\n",
      "23        24      0\n",
      "24        25      1\n",
      "25        26      1\n",
      "26        27      0\n",
      "27        28      0\n",
      "28        29      0\n",
      "29        30      0\n",
      "...      ...    ...\n",
      "16251  16252      0\n",
      "16252  16253      1\n",
      "16253  16254      0\n",
      "16254  16255      1\n",
      "16255  16256      1\n",
      "16256  16257      0\n",
      "16257  16258      0\n",
      "16258  16259      0\n",
      "16259  16260      0\n",
      "16260  16261      0\n",
      "16261  16262      1\n",
      "16262  16263      0\n",
      "16263  16264      0\n",
      "16264  16265      0\n",
      "16265  16266      1\n",
      "16266  16267      0\n",
      "16267  16268      0\n",
      "16268  16269      0\n",
      "16269  16270      0\n",
      "16270  16271      0\n",
      "16271  16272      0\n",
      "16272  16273      0\n",
      "16273  16274      0\n",
      "16274  16275      0\n",
      "16275  16276      0\n",
      "16276  16277      0\n",
      "16277  16278      0\n",
      "16278  16279      1\n",
      "16279  16280      0\n",
      "16280  16281      1\n",
      "\n",
      "[16281 rows x 2 columns]\n"
     ]
    }
   ],
   "source": [
    "Final = pd.DataFrame(final,columns = ['id','label'] )\n",
    "print(Final)\n",
    "Final.to_csv(\"hw2_logistic.csv\",index = False)"
   ]
  },
  {
   "cell_type": "code",
   "execution_count": null,
   "metadata": {
    "collapsed": true
   },
   "outputs": [],
   "source": []
  },
  {
   "cell_type": "code",
   "execution_count": null,
   "metadata": {
    "collapsed": true
   },
   "outputs": [],
   "source": []
  },
  {
   "cell_type": "code",
   "execution_count": null,
   "metadata": {
    "collapsed": true
   },
   "outputs": [],
   "source": []
  }
 ],
 "metadata": {
  "kernelspec": {
   "display_name": "Python 3",
   "language": "python",
   "name": "python3"
  },
  "language_info": {
   "codemirror_mode": {
    "name": "ipython",
    "version": 3
   },
   "file_extension": ".py",
   "mimetype": "text/x-python",
   "name": "python",
   "nbconvert_exporter": "python",
   "pygments_lexer": "ipython3",
   "version": "3.6.0"
  }
 },
 "nbformat": 4,
 "nbformat_minor": 2
}
