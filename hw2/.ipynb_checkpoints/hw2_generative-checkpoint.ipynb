{
 "cells": [
  {
   "cell_type": "code",
   "execution_count": 527,
   "metadata": {
    "collapsed": true
   },
   "outputs": [],
   "source": [
    "import pandas as pd\n",
    "import numpy as np\n",
    "import scipy as cp\n",
    "import sys"
   ]
  },
  {
   "cell_type": "code",
   "execution_count": 528,
   "metadata": {
    "collapsed": true
   },
   "outputs": [],
   "source": [
    "def data_split(s1,s2,data):\n",
    "    return np.vstack([data[:s1],data[s2:]]) ,data[s1:s2]"
   ]
  },
  {
   "cell_type": "code",
   "execution_count": 529,
   "metadata": {
    "collapsed": true
   },
   "outputs": [],
   "source": [
    "def Accuracy(Xva,Yva, mu1, mu2, shared_sigma, N1, N2):\n",
    "    result = predict(Xva, mu1, mu2, shared_sigma, N1, N2)\n",
    "    correct = 0\n",
    "    for i in range(len(Xva)):\n",
    "        if result[i] >= 0.5:\n",
    "            if Yva[i] ==1:\n",
    "                correct = correct+1\n",
    "        else:\n",
    "            if Yva[i] ==0:\n",
    "                correct = correct+1\n",
    "    accuracy = correct/len(Yva)   \n",
    "    return accuracy"
   ]
  },
  {
   "cell_type": "code",
   "execution_count": 530,
   "metadata": {
    "collapsed": true
   },
   "outputs": [],
   "source": [
    "def fscaling(data):\n",
    "    N = data.T\n",
    "    f =  1/(np.max(N[0])-np.min(N[0]))\n",
    "    for i in range(len(data)):\n",
    "        data[i,0]= (data[i,0]-np.min(N[0]))*f\n",
    "        \n",
    "    f =  1/(np.max(N[1])-np.min(N[1]))\n",
    "    for i in range(len(data)):\n",
    "        data[i,1]= (data[i,1]-np.min(N[1]))*f\n",
    "    \n",
    "    f =  1/(np.max(N[3])-np.min(N[3]))\n",
    "    for i in range(len(data)):\n",
    "        data[i,3]= (data[i,3]-np.min(N[3]))*f\n",
    "    \n",
    "    f =  1/(np.max(N[4])-np.min(N[4]))\n",
    "    for i in range(len(data)):\n",
    "        data[i,4]= (data[i,4]-np.min(N[4]))*f\n",
    "    \n",
    "    f =  1/(np.max(N[5])-np.min(N[5]))\n",
    "    for i in range(len(data)):\n",
    "        data[i,5]= (data[i,5]-np.min(N[5]))*f\n",
    "    return data"
   ]
  },
  {
   "cell_type": "code",
   "execution_count": 531,
   "metadata": {
    "collapsed": true
   },
   "outputs": [],
   "source": [
    "def shuffle(X,Y):\n",
    "    rand = np.arange(len(X))\n",
    "    np.random.shuffle(rand)\n",
    "    return (X[rand],Y[rand])"
   ]
  },
  {
   "cell_type": "code",
   "execution_count": 532,
   "metadata": {
    "collapsed": true
   },
   "outputs": [],
   "source": [
    "def sigmoid(z):\n",
    "    res = 1 / (1.0 + np.exp(-z))\n",
    "    return np.clip(res, 0.00000000000001, 0.99999999999999)"
   ]
  },
  {
   "cell_type": "code",
   "execution_count": 533,
   "metadata": {
    "collapsed": true
   },
   "outputs": [],
   "source": [
    "def feature_filter(Xtr,col):\n",
    "    return np.delete(Xtr,col,axis = 1)"
   ]
  },
  {
   "cell_type": "code",
   "execution_count": 534,
   "metadata": {
    "collapsed": true
   },
   "outputs": [],
   "source": [
    "def predict(Xte, mu1, mu2, shared_sigma, N1, N2):\n",
    "    sigma_inverse = np.linalg.inv(shared_sigma)\n",
    "    w = np.dot( (mu1-mu2), sigma_inverse)\n",
    "    x = Xte.T\n",
    "    b = (-0.5) * np.dot(np.dot([mu1], sigma_inverse), mu1) + (0.5) * np.dot(np.dot([mu2], sigma_inverse), mu2) + np.log(float(N1)/N2)\n",
    "    a = np.dot(w, x) + b\n",
    "    y = sigmoid(a)\n",
    "    return y"
   ]
  },
  {
   "cell_type": "code",
   "execution_count": 535,
   "metadata": {
    "collapsed": true
   },
   "outputs": [],
   "source": [
    "def train(Xtr,Ytr):\n",
    "    datalength = len(Xtr)\n",
    "    fnumber = len(Xtr[0])\n",
    "    \n",
    "    cnt1 = 0\n",
    "    cnt2 = 0\n",
    "    mu1 = np.zeros((fnumber,))\n",
    "    mu2 = np.zeros((fnumber,))\n",
    "    for i in range(datalength):\n",
    "        if Ytr[i] == 1:\n",
    "            mu1 += Xtr[i]\n",
    "            cnt1 += 1\n",
    "        else:\n",
    "            mu2 += Xtr[i]\n",
    "            cnt2 += 1\n",
    "    mu1 /= cnt1\n",
    "    mu2 /= cnt2\n",
    "    \n",
    "    sigma1 = np.zeros((fnumber,fnumber))\n",
    "    sigma2 = np.zeros((fnumber,fnumber))\n",
    "    for i in range(datalength):\n",
    "        if Ytr[i] == 1:\n",
    "            sigma1 += np.dot(np.transpose([Xtr[i] - mu1]), [(Xtr[i] - mu1)])\n",
    "        else:\n",
    "            sigma2 += np.dot(np.transpose([Xtr[i] - mu2]), [(Xtr[i] - mu2)])\n",
    "    sigma1 /= cnt1\n",
    "    sigma2 /= cnt2\n",
    "    shared_sigma = (float(cnt1) / datalength) * sigma1 + (float(cnt2) / datalength) * sigma2\n",
    "    \n",
    "    return mu1, mu2, shared_sigma, cnt1, cnt2"
   ]
  },
  {
   "cell_type": "code",
   "execution_count": 536,
   "metadata": {
    "collapsed": true
   },
   "outputs": [],
   "source": [
    "s1 = 2000\n",
    "s2 = 8500\n",
    "col = [i for i in range(32,38)]  #drop marry situation"
   ]
  },
  {
   "cell_type": "code",
   "execution_count": 537,
   "metadata": {
    "collapsed": false
   },
   "outputs": [],
   "source": [
    "X = pd.read_csv('X_train.csv',encoding = 'big5')\n",
    "Y = pd.read_csv('Y_train.csv',encoding = 'big5',names = ['haha'])\n",
    "X = np.array(X,float)\n",
    "Y = np.array(Y,float)\n",
    "#[X,Y] = shuffle(X,Y)\n",
    "[Xtr,Xva] = data_split(s1,s2,X)\n",
    "[Ytr,Yva] = data_split(s1,s2,Y)\n",
    "Ytr = np.reshape(Ytr,(len(Ytr)))\n",
    "Yva = np.reshape(Yva,(len(Yva)))"
   ]
  },
  {
   "cell_type": "code",
   "execution_count": 538,
   "metadata": {
    "collapsed": false
   },
   "outputs": [],
   "source": [
    "Xtr = fscaling(Xtr)\n",
    "Xtr = feature_filter(Xtr,col)\n",
    "\n",
    "Xva = fscaling(Xva)\n",
    "Xva = feature_filter(Xva,col)"
   ]
  },
  {
   "cell_type": "code",
   "execution_count": 539,
   "metadata": {
    "collapsed": true
   },
   "outputs": [],
   "source": [
    "[mu1, mu2, shared_sigma, N1, N2] = train(Xtr,Ytr)"
   ]
  },
  {
   "cell_type": "code",
   "execution_count": 540,
   "metadata": {
    "collapsed": false
   },
   "outputs": [
    {
     "name": "stderr",
     "output_type": "stream",
     "text": [
      "/home/daniel/anaconda3/lib/python3.6/site-packages/ipykernel/__main__.py:2: RuntimeWarning: overflow encountered in exp\n",
      "  from ipykernel import kernelapp as app\n"
     ]
    },
    {
     "data": {
      "text/plain": [
       "0.7577990100149649"
      ]
     },
     "execution_count": 540,
     "metadata": {},
     "output_type": "execute_result"
    }
   ],
   "source": [
    "Accuracy(Xtr,Ytr, mu1, mu2, shared_sigma, N1, N2)"
   ]
  },
  {
   "cell_type": "code",
   "execution_count": 541,
   "metadata": {
    "collapsed": false
   },
   "outputs": [
    {
     "name": "stderr",
     "output_type": "stream",
     "text": [
      "/home/daniel/anaconda3/lib/python3.6/site-packages/ipykernel/__main__.py:2: RuntimeWarning: overflow encountered in exp\n",
      "  from ipykernel import kernelapp as app\n"
     ]
    },
    {
     "data": {
      "text/plain": [
       "0.7647692307692308"
      ]
     },
     "execution_count": 541,
     "metadata": {},
     "output_type": "execute_result"
    }
   ],
   "source": [
    "Accuracy(Xva,Yva, mu1, mu2, shared_sigma, N1, N2)"
   ]
  },
  {
   "cell_type": "code",
   "execution_count": 542,
   "metadata": {
    "collapsed": true
   },
   "outputs": [],
   "source": [
    "Xte = pd.read_csv('X_test.csv',encoding ='big5')\n",
    "Xte = np.array(Xte,float)\n",
    "Xte = fscaling(Xte)\n",
    "Xte = feature_filter(Xte,col)"
   ]
  },
  {
   "cell_type": "code",
   "execution_count": 543,
   "metadata": {
    "collapsed": false
   },
   "outputs": [
    {
     "name": "stderr",
     "output_type": "stream",
     "text": [
      "/home/daniel/anaconda3/lib/python3.6/site-packages/ipykernel/__main__.py:2: RuntimeWarning: overflow encountered in exp\n",
      "  from ipykernel import kernelapp as app\n"
     ]
    }
   ],
   "source": [
    "result = predict(Xte, mu1, mu2, shared_sigma, N1, N2)\n",
    "Result = np.zeros(len(Xte),int)\n",
    "for i in range(len(Xte)):\n",
    "        if result[i] >= 0.5:\n",
    "            Result[i]=1      \n",
    "        else:\n",
    "            Result[i]=0  "
   ]
  },
  {
   "cell_type": "code",
   "execution_count": 544,
   "metadata": {
    "collapsed": true
   },
   "outputs": [],
   "source": [
    "final = []\n",
    "num=1\n",
    "while num <= len(Xte):\n",
    "    final.append([str(num),Result[num-1]])\n",
    "    num = num+1"
   ]
  },
  {
   "cell_type": "code",
   "execution_count": 545,
   "metadata": {
    "collapsed": false
   },
   "outputs": [
    {
     "name": "stdout",
     "output_type": "stream",
     "text": [
      "          id  label\n",
      "0          1      0\n",
      "1          2      0\n",
      "2          3      0\n",
      "3          4      0\n",
      "4          5      0\n",
      "5          6      0\n",
      "6          7      0\n",
      "7          8      0\n",
      "8          9      0\n",
      "9         10      0\n",
      "10        11      0\n",
      "11        12      0\n",
      "12        13      0\n",
      "13        14      0\n",
      "14        15      0\n",
      "15        16      0\n",
      "16        17      0\n",
      "17        18      0\n",
      "18        19      0\n",
      "19        20      0\n",
      "20        21      0\n",
      "21        22      0\n",
      "22        23      0\n",
      "23        24      0\n",
      "24        25      0\n",
      "25        26      0\n",
      "26        27      0\n",
      "27        28      0\n",
      "28        29      0\n",
      "29        30      0\n",
      "...      ...    ...\n",
      "16251  16252      0\n",
      "16252  16253      0\n",
      "16253  16254      0\n",
      "16254  16255      0\n",
      "16255  16256      0\n",
      "16256  16257      0\n",
      "16257  16258      0\n",
      "16258  16259      0\n",
      "16259  16260      0\n",
      "16260  16261      0\n",
      "16261  16262      0\n",
      "16262  16263      0\n",
      "16263  16264      0\n",
      "16264  16265      0\n",
      "16265  16266      0\n",
      "16266  16267      0\n",
      "16267  16268      0\n",
      "16268  16269      0\n",
      "16269  16270      0\n",
      "16270  16271      0\n",
      "16271  16272      0\n",
      "16272  16273      0\n",
      "16273  16274      0\n",
      "16274  16275      0\n",
      "16275  16276      0\n",
      "16276  16277      0\n",
      "16277  16278      0\n",
      "16278  16279      0\n",
      "16279  16280      0\n",
      "16280  16281      0\n",
      "\n",
      "[16281 rows x 2 columns]\n"
     ]
    }
   ],
   "source": [
    "Final = pd.DataFrame(final,columns = ['id','label'] )\n",
    "print(Final)\n",
    "Final.to_csv(\"hw2_generative.csv\",index = False)"
   ]
  },
  {
   "cell_type": "code",
   "execution_count": null,
   "metadata": {
    "collapsed": true
   },
   "outputs": [],
   "source": []
  }
 ],
 "metadata": {
  "kernelspec": {
   "display_name": "Python 3",
   "language": "python",
   "name": "python3"
  },
  "language_info": {
   "codemirror_mode": {
    "name": "ipython",
    "version": 3
   },
   "file_extension": ".py",
   "mimetype": "text/x-python",
   "name": "python",
   "nbconvert_exporter": "python",
   "pygments_lexer": "ipython3",
   "version": "3.6.0"
  }
 },
 "nbformat": 4,
 "nbformat_minor": 2
}
