{
 "cells": [
  {
   "cell_type": "code",
   "execution_count": 265,
   "metadata": {
    "collapsed": true
   },
   "outputs": [],
   "source": [
    "import pandas as pd\n",
    "import numpy as np\n",
    "import scipy as cp\n",
    "import sys"
   ]
  },
  {
   "cell_type": "code",
   "execution_count": 266,
   "metadata": {
    "collapsed": true
   },
   "outputs": [],
   "source": [
    "#data cleaning\n"
   ]
  },
  {
   "cell_type": "code",
   "execution_count": 267,
   "metadata": {
    "collapsed": false
   },
   "outputs": [],
   "source": [
    "def data_split(s1,s2,data):\n",
    "    return np.vstack([data[:s1],data[s2:]]) ,data[s1:s2]"
   ]
  },
  {
   "cell_type": "code",
   "execution_count": 268,
   "metadata": {
    "collapsed": true
   },
   "outputs": [],
   "source": [
    "def Accuracy(Xva,Yva,b,w):\n",
    "    result = b+np.dot(Xva,w)\n",
    "    correct = 0\n",
    "    for i in range(len(Xva)):\n",
    "        if result[i] >= 0.5:\n",
    "            if Yva[i] ==1:\n",
    "                correct = correct+1\n",
    "        else:\n",
    "            if Yva[i] ==0:\n",
    "                correct = correct+1\n",
    "                \n",
    "    accuracy = correct/len(Yva)\n",
    "    return accuracy\n",
    "    "
   ]
  },
  {
   "cell_type": "code",
   "execution_count": 269,
   "metadata": {
    "collapsed": true
   },
   "outputs": [],
   "source": [
    "def data_clean(X,Y,b,w):\n",
    "    for i in range(len(Xva)):\n",
    "        if result[i] >= 0.5:\n",
    "            if Y[i] ==0:\n",
    "                X = np.delete(X,[i],axis=0)\n",
    "                Y = np.delete(Y,[i],axis=0)\n",
    "        else:\n",
    "            if Yva[i] ==1:\n",
    "                X = np.delete(X,[i],axis=0)\n",
    "                Y = np.delete(Y,[i],axis=0)\n",
    "    return X,Y\n",
    "                "
   ]
  },
  {
   "cell_type": "code",
   "execution_count": 270,
   "metadata": {
    "collapsed": true
   },
   "outputs": [],
   "source": [
    "def fscaling(s,data):\n",
    "    N = data.T\n",
    "    f =  1/(np.max(N[s])-np.min(N[s]))\n",
    "    for i in range(len(data)):\n",
    "        data[i,s]= (data[i,s]-np.min(N[s]))*f\n",
    "    return data"
   ]
  },
  {
   "cell_type": "code",
   "execution_count": 271,
   "metadata": {
    "collapsed": false
   },
   "outputs": [],
   "source": [
    "def batch(data,s):\n",
    "    dlength = len(data)\n",
    "    bdata= []\n",
    "    for n in range(s):\n",
    "        if n==0:\n",
    "            bdata.append(data[:int((dlength)*n/s)])\n",
    "        elif n ==s:\n",
    "            bdata.append(data[int((dlength)*(n-1)/s):])\n",
    "        else:\n",
    "             bdata.append(data[int((dlength)*(n-1)/s):int((dlength)*n/s)])\n",
    "    return bdata"
   ]
  },
  {
   "cell_type": "code",
   "execution_count": 272,
   "metadata": {
    "collapsed": true
   },
   "outputs": [],
   "source": [
    "s1 = 500\n",
    "s2 = 1000\n",
    "\n",
    "#batch_num = 10"
   ]
  },
  {
   "cell_type": "code",
   "execution_count": 273,
   "metadata": {
    "collapsed": false
   },
   "outputs": [],
   "source": [
    "X = pd.read_csv('X_train.csv',encoding = 'big5')\n",
    "Y = pd.read_csv('Y_train.csv',encoding = 'big5',names = ['haha'])\n",
    "X = np.array(X,float)\n",
    "Y = np.array(Y,float)\n",
    "[Xtr,Xva] = data_split(s1,s2,X)\n",
    "[Ytr,Yva] = data_split(s1,s2,Y)\n",
    "Ytr = np.reshape(Ytr,(len(Ytr)))\n",
    "Yva = np.reshape(Yva,(len(Yva)))\n",
    "\n",
    "datalength = len(Xtr)\n",
    "fnumber = len(Xtr[0])\n"
   ]
  },
  {
   "cell_type": "code",
   "execution_count": 274,
   "metadata": {
    "collapsed": false
   },
   "outputs": [],
   "source": [
    "Xtr = fscaling(0,Xtr)\n",
    "Xtr = fscaling(1,Xtr)\n",
    "Xtr = fscaling(5,Xtr)\n",
    "\n",
    "Xva = fscaling(0,Xva)\n",
    "Xva = fscaling(1,Xva)\n",
    "Xva = fscaling(5,Xva)"
   ]
  },
  {
   "cell_type": "code",
   "execution_count": 275,
   "metadata": {
    "collapsed": false
   },
   "outputs": [],
   "source": [
    "#Xtr = batch(Xtr,batch_num)\n",
    "#Ytr = batch(Ytr,batch_num)\n",
    "#print(Xtr)"
   ]
  },
  {
   "cell_type": "code",
   "execution_count": 276,
   "metadata": {
    "collapsed": false
   },
   "outputs": [],
   "source": [
    "#len(Ytr[3])\n"
   ]
  },
  {
   "cell_type": "code",
   "execution_count": 277,
   "metadata": {
    "collapsed": false,
    "scrolled": true
   },
   "outputs": [
    {
     "name": "stderr",
     "output_type": "stream",
     "text": [
      "/home/daniel/anaconda3/lib/python3.6/site-packages/ipykernel/__main__.py:20: RuntimeWarning: overflow encountered in exp\n"
     ]
    }
   ],
   "source": [
    "\n",
    "b = 10\n",
    "w = np.zeros(fnumber)\n",
    "lr = 10\n",
    "b_lr = 0\n",
    "w_lr = np.zeros(fnumber)\n",
    "lamda = 1\n",
    "iteration = 10000\n",
    "\n",
    "for it in range(iteration):\n",
    "    #for bn in range(1,batch_num-1):\n",
    "            \n",
    "        b_grad = 0\n",
    "        w_grad = np.zeros(fnumber)\n",
    "        \n",
    "        \n",
    "        z = b+np.dot(Xtr,w)\n",
    "\n",
    "        \n",
    "        sigmoi = np.clip(1/(1+np.exp(-z)),0.000000000001,0.99999999999)\n",
    "        w_grad = -np.dot(Xtr.T,(Ytr-sigmoi.T)) + 2*lamda*w\n",
    "        b_grad = -np.sum((Ytr-sigmoi.T))\n",
    "    \n",
    "        b_lr = b_lr+b_grad**2\n",
    "        w_lr = w_lr+w_grad**2\n",
    "    \n",
    "    \n",
    "        b = b - lr/np.sqrt(b_lr) * b_grad\n",
    "        w = w - lr/np.sqrt(w_lr) * w_grad\n",
    "        #b = b - lr * b_grad\n",
    "        #w = w - lr*w_grad\n",
    "    \n",
    "        \n",
    "\n",
    "\n",
    "    "
   ]
  },
  {
   "cell_type": "code",
   "execution_count": 278,
   "metadata": {
    "collapsed": false,
    "scrolled": true
   },
   "outputs": [
    {
     "name": "stdout",
     "output_type": "stream",
     "text": [
      "Bias : -23.1820576981\n",
      "Weight: [  3.06469933e+00   1.43220230e+00   4.91419875e+00   1.71719055e-01\n",
      "  -1.16745557e-03   5.43064106e+00  -9.22519657e-03  -1.49756728e+00\n",
      "  -5.73579107e-02  -1.09477726e+00  -7.60146407e-01  -2.00349016e+00\n",
      "  -1.61559419e+00  -1.33550678e+00  -1.56101110e+00  -2.20074068e+00\n",
      "  -3.10095047e+00  -1.34573569e+00  -1.73413211e+00  -2.52754686e+00\n",
      "  -4.92977869e+00  -3.01573148e+00   1.39528011e-01   1.94935773e-01\n",
      "   1.23688970e+00   5.20761524e+00  -7.09077780e-01   2.11912969e+00\n",
      "  -2.03669012e+00   3.81153816e+00  -1.33349746e-01  -2.86830973e+00\n",
      "   4.10630156e+00   1.07680172e+01  -2.51741752e+00  -1.30665710e+01\n",
      "  -3.60719676e+00  -2.94304289e+00  -4.88010675e-01   7.33517505e-02\n",
      "   3.46400841e-02   1.15386476e+00  -2.09893615e+00  -1.84579245e+00\n",
      "  -7.32238864e-01  -2.40727084e+00  -3.31321845e+00   7.47656257e-01\n",
      "   6.86672892e-01   1.88105767e-01   6.79683980e-01  -2.48909870e-01\n",
      "  -1.61557415e+00   4.66067258e+00   1.61946627e+01  -5.62842343e+00\n",
      "  -4.32667540e+01   9.77910497e+00   1.04823496e+01  -2.77994585e+00\n",
      "  -1.71757417e+00  -2.29500229e+00  -2.26164588e+00  -1.85968221e+00\n",
      "   5.66567335e-01   4.74065937e-01  -1.10088381e+00  -2.03874403e+00\n",
      "   7.51134427e-01  -8.90063769e-01  -8.48374285e-01  -1.75490553e+00\n",
      "   2.76544125e-01   3.48662067e-01   8.68705997e-01  -9.45974061e-01\n",
      "  -4.24002291e-01   3.38829703e-01  -2.72865098e-01   1.83030847e-01\n",
      "   4.49593977e-02  -4.82252228e-01  -6.82584189e-01   1.46958418e-01\n",
      "   2.23414973e-01   1.08810474e+00   3.42150151e-01   6.55771152e-02\n",
      "  -3.89500110e-01  -1.12210766e+00  -9.83325438e-01  -2.90106861e-01\n",
      "  -3.59130250e-01   9.11558650e-01  -2.52603362e-01  -3.96012034e-01\n",
      "  -8.04147841e-01   1.55036981e-01  -8.10314677e-01  -2.08243628e-01\n",
      "  -2.98336923e-01  -3.87309463e-02   4.00912294e-01  -1.75721762e+00\n",
      "   4.79996019e-01  -3.83154666e-01]\n"
     ]
    }
   ],
   "source": [
    "print('Bias :',b)\n",
    "print('Weight:',w)"
   ]
  },
  {
   "cell_type": "code",
   "execution_count": 279,
   "metadata": {
    "collapsed": false
   },
   "outputs": [
    {
     "data": {
      "text/plain": [
       "0.8174729422039237"
      ]
     },
     "execution_count": 279,
     "metadata": {},
     "output_type": "execute_result"
    }
   ],
   "source": [
    "Accuracy(Xtr,Ytr,b,w)\n",
    "\n"
   ]
  },
  {
   "cell_type": "code",
   "execution_count": 280,
   "metadata": {
    "collapsed": false
   },
   "outputs": [
    {
     "data": {
      "text/plain": [
       "0.816"
      ]
     },
     "execution_count": 280,
     "metadata": {},
     "output_type": "execute_result"
    }
   ],
   "source": [
    "Accuracy(Xva,Yva,b,w)"
   ]
  },
  {
   "cell_type": "code",
   "execution_count": 281,
   "metadata": {
    "collapsed": true
   },
   "outputs": [],
   "source": [
    "[Xtr,Ytr] = data_clean(Xtr,Ytr,b,w)"
   ]
  },
  {
   "cell_type": "code",
   "execution_count": 282,
   "metadata": {
    "collapsed": false
   },
   "outputs": [
    {
     "name": "stderr",
     "output_type": "stream",
     "text": [
      "/home/daniel/anaconda3/lib/python3.6/site-packages/ipykernel/__main__.py:20: RuntimeWarning: overflow encountered in exp\n"
     ]
    }
   ],
   "source": [
    "\n",
    "b = 10\n",
    "w = np.zeros(fnumber)\n",
    "lr = 10\n",
    "b_lr = 0\n",
    "w_lr = np.zeros(fnumber)\n",
    "lamda = 1\n",
    "iteration = 10000\n",
    "\n",
    "for it in range(iteration):\n",
    "    #for bn in range(1,batch_num-1):\n",
    "            \n",
    "        b_grad = 0\n",
    "        w_grad = np.zeros(fnumber)\n",
    "        \n",
    "        \n",
    "        z = b+np.dot(Xtr,w)\n",
    "\n",
    "        \n",
    "        sigmoi = np.clip(1/(1+np.exp(-z)),0.000000000001,0.99999999999)\n",
    "        w_grad = -np.dot(Xtr.T,(Ytr-sigmoi.T)) + 2*lamda*w\n",
    "        b_grad = -np.sum((Ytr-sigmoi.T))\n",
    "    \n",
    "        b_lr = b_lr+b_grad**2\n",
    "        w_lr = w_lr+w_grad**2\n",
    "    \n",
    "    \n",
    "        b = b - lr/np.sqrt(b_lr) * b_grad\n",
    "        w = w - lr/np.sqrt(w_lr) * w_grad\n",
    "        "
   ]
  },
  {
   "cell_type": "code",
   "execution_count": 283,
   "metadata": {
    "collapsed": false
   },
   "outputs": [
    {
     "data": {
      "text/plain": [
       "0.8202120318675115"
      ]
     },
     "execution_count": 283,
     "metadata": {},
     "output_type": "execute_result"
    }
   ],
   "source": [
    "Accuracy(Xtr,Ytr,b,w)"
   ]
  },
  {
   "cell_type": "code",
   "execution_count": 284,
   "metadata": {
    "collapsed": false
   },
   "outputs": [
    {
     "data": {
      "text/plain": [
       "0.818"
      ]
     },
     "execution_count": 284,
     "metadata": {},
     "output_type": "execute_result"
    }
   ],
   "source": [
    "Accuracy(Xva,Yva,b,w)"
   ]
  },
  {
   "cell_type": "code",
   "execution_count": 285,
   "metadata": {
    "collapsed": false
   },
   "outputs": [],
   "source": [
    "Xte = pd.read_csv('X_test.csv',encoding ='big5')\n",
    "Xte = np.array(Xte,float)\n",
    "Xte = fscaling(0,Xte)\n",
    "Xte = fscaling(1,Xte)\n",
    "Xte = fscaling(5,Xte)"
   ]
  },
  {
   "cell_type": "code",
   "execution_count": 286,
   "metadata": {
    "collapsed": false
   },
   "outputs": [],
   "source": [
    "result = b + np.dot(Xte,w)\n",
    "Result = np.zeros(len(Xte),int)\n",
    "for i in range(len(Xte)):\n",
    "        if result[i] >= 0.5:\n",
    "            Result[i]=1      \n",
    "        else:\n",
    "            Result[i]=0  "
   ]
  },
  {
   "cell_type": "code",
   "execution_count": 287,
   "metadata": {
    "collapsed": false,
    "scrolled": true
   },
   "outputs": [],
   "source": [
    "final = []\n",
    "num=1\n",
    "while num <= len(Xte):\n",
    "    final.append([str(num),Result[num-1]])\n",
    "    num = num+1"
   ]
  },
  {
   "cell_type": "code",
   "execution_count": 288,
   "metadata": {
    "collapsed": false
   },
   "outputs": [
    {
     "name": "stdout",
     "output_type": "stream",
     "text": [
      "          id  label\n",
      "0          1      0\n",
      "1          2      0\n",
      "2          3      0\n",
      "3          4      1\n",
      "4          5      0\n",
      "5          6      0\n",
      "6          7      0\n",
      "7          8      1\n",
      "8          9      0\n",
      "9         10      0\n",
      "10        11      1\n",
      "11        12      1\n",
      "12        13      0\n",
      "13        14      0\n",
      "14        15      1\n",
      "15        16      1\n",
      "16        17      0\n",
      "17        18      0\n",
      "18        19      0\n",
      "19        20      1\n",
      "20        21      1\n",
      "21        22      0\n",
      "22        23      0\n",
      "23        24      0\n",
      "24        25      1\n",
      "25        26      1\n",
      "26        27      0\n",
      "27        28      0\n",
      "28        29      0\n",
      "29        30      0\n",
      "...      ...    ...\n",
      "16251  16252      1\n",
      "16252  16253      1\n",
      "16253  16254      1\n",
      "16254  16255      1\n",
      "16255  16256      1\n",
      "16256  16257      0\n",
      "16257  16258      0\n",
      "16258  16259      0\n",
      "16259  16260      0\n",
      "16260  16261      0\n",
      "16261  16262      1\n",
      "16262  16263      0\n",
      "16263  16264      0\n",
      "16264  16265      0\n",
      "16265  16266      1\n",
      "16266  16267      0\n",
      "16267  16268      0\n",
      "16268  16269      0\n",
      "16269  16270      0\n",
      "16270  16271      0\n",
      "16271  16272      0\n",
      "16272  16273      0\n",
      "16273  16274      0\n",
      "16274  16275      0\n",
      "16275  16276      0\n",
      "16276  16277      0\n",
      "16277  16278      0\n",
      "16278  16279      1\n",
      "16279  16280      1\n",
      "16280  16281      1\n",
      "\n",
      "[16281 rows x 2 columns]\n"
     ]
    }
   ],
   "source": [
    "Final = pd.DataFrame(final,columns = ['id','label'] )\n",
    "print(Final)\n",
    "Final.to_csv(\"hw2.csv\",index = False)"
   ]
  },
  {
   "cell_type": "code",
   "execution_count": null,
   "metadata": {
    "collapsed": true
   },
   "outputs": [],
   "source": []
  },
  {
   "cell_type": "code",
   "execution_count": null,
   "metadata": {
    "collapsed": true
   },
   "outputs": [],
   "source": []
  },
  {
   "cell_type": "code",
   "execution_count": null,
   "metadata": {
    "collapsed": true
   },
   "outputs": [],
   "source": []
  },
  {
   "cell_type": "code",
   "execution_count": null,
   "metadata": {
    "collapsed": true
   },
   "outputs": [],
   "source": []
  },
  {
   "cell_type": "code",
   "execution_count": null,
   "metadata": {
    "collapsed": true
   },
   "outputs": [],
   "source": []
  },
  {
   "cell_type": "code",
   "execution_count": null,
   "metadata": {
    "collapsed": true
   },
   "outputs": [],
   "source": []
  },
  {
   "cell_type": "code",
   "execution_count": null,
   "metadata": {
    "collapsed": true
   },
   "outputs": [],
   "source": []
  }
 ],
 "metadata": {
  "kernelspec": {
   "display_name": "Python 3",
   "language": "python",
   "name": "python3"
  },
  "language_info": {
   "codemirror_mode": {
    "name": "ipython",
    "version": 3
   },
   "file_extension": ".py",
   "mimetype": "text/x-python",
   "name": "python",
   "nbconvert_exporter": "python",
   "pygments_lexer": "ipython3",
   "version": "3.6.0"
  }
 },
 "nbformat": 4,
 "nbformat_minor": 2
}
