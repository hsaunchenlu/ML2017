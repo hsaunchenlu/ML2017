{
 "cells": [
  {
   "cell_type": "code",
   "execution_count": 1,
   "metadata": {
    "collapsed": false
   },
   "outputs": [],
   "source": [
    "import pandas as pd\n",
    "import numpy as np\n",
    "import matplotlib.pyplot as plt\n",
    "import csv\n",
    "data = pd.read_csv(\"train.csv\",encoding = \"big5\")\n",
    "variables = 9"
   ]
  },
  {
   "cell_type": "code",
   "execution_count": 2,
   "metadata": {
    "collapsed": true
   },
   "outputs": [],
   "source": [
    "def RMSE(Weight,Bias,X,Y,TDataMonth,TDataLeng):\n",
    "    cost = 0.0\n",
    "    for i in range(TDataMonth):\n",
    "        for j in range(TDataLeng):\n",
    "            cost = cost + (Y[i*TDataLeng+j] - Bias-np.dot(Weight,X[i,j,0:variables]))**2.0\n",
    "    error = (cost/(TDataMonth*TDataLeng))**(0.5)\n",
    "    return error"
   ]
  },
  {
   "cell_type": "code",
   "execution_count": 3,
   "metadata": {
    "collapsed": true
   },
   "outputs": [],
   "source": [
    "def fscaling(V):\n",
    "    FS = (V-np.mean(V))/(np.max(V)-np.min(V))\n",
    "    return FS"
   ]
  },
  {
   "cell_type": "code",
   "execution_count": 4,
   "metadata": {
    "collapsed": false
   },
   "outputs": [],
   "source": [
    "def Tfscaling(V,TR):\n",
    "    FS = (V-np.mean(TR))/(np.max(TR)-np.min(TR))\n",
    "    return FS"
   ]
  },
  {
   "cell_type": "code",
   "execution_count": 5,
   "metadata": {
    "collapsed": true
   },
   "outputs": [],
   "source": [
    "def TFprocess(data,S):\n",
    "    V = data[data[\"測項\"]==S]\n",
    "    V = V.drop(['日期','測站','測項'],axis = 1)\n",
    "    V = np.array(V,float)\n",
    "    v = np.reshape(V,(12,480))\n",
    "    datarow = len(v)\n",
    "    datacol = len(v[0])\n",
    "    DSV = np.zeros((datarow,datacol-9,9),float)\n",
    "    for i in range(0,datarow):\n",
    "        for j in range(0,datacol-9):\n",
    "            for k in range(0,9):\n",
    "                DSV[i,j,k] = v[i,j+k]\n",
    "    return DSV"
   ]
  },
  {
   "cell_type": "code",
   "execution_count": 6,
   "metadata": {
    "collapsed": true
   },
   "outputs": [],
   "source": [
    "def TLprocess(data,S):\n",
    "    V = data[data[\"測項\"]==S]\n",
    "    V = V.drop(['日期','測站','測項'],axis = 1)\n",
    "    V = np.array(V,float)\n",
    "    v = np.reshape(V,(12,480))\n",
    "    datarow = len(v)\n",
    "    datacol = len(v[0])\n",
    "    DSV = np.zeros(datarow*(datacol-9),float)\n",
    "    for i in range(0,datarow):\n",
    "        for j in range(0,datacol-9):\n",
    "            DSV[i*(datacol-9)+j] = v[i,j+9]      #target\n",
    "    return DSV"
   ]
  },
  {
   "cell_type": "code",
   "execution_count": 7,
   "metadata": {
    "collapsed": true
   },
   "outputs": [],
   "source": [
    "def StackData(X,S,data):\n",
    "    if len(X) == 0:\n",
    "        X = TFprocess(data,S)\n",
    "        return X\n",
    "    else:\n",
    "        V = TFprocess(data,S)\n",
    "        X = np.dstack([X,V])\n",
    "        return X"
   ]
  },
  {
   "cell_type": "code",
   "execution_count": 8,
   "metadata": {
    "collapsed": true
   },
   "outputs": [],
   "source": [
    "def TStackData(Xt,S,tdata):\n",
    "    Vt = tdata[tdata['測項']==S]\n",
    "    Vt=Vt.drop(['1','測項'],axis = 1)\n",
    "    Vt = np.array(Vt,float)\n",
    "    TR = data[data[\"測項\"]==S]\n",
    "    TR = TR.drop(['日期','測站','測項'],axis = 1)\n",
    "    TR = np.array(TR,float)\n",
    "    if len(Xt) == 0:\n",
    "        return Vt\n",
    "    else:\n",
    "        Xt = np.hstack([Xt,Vt])\n",
    "        return Xt"
   ]
  },
  {
   "cell_type": "code",
   "execution_count": 9,
   "metadata": {
    "collapsed": false
   },
   "outputs": [],
   "source": [
    "\n",
    "X = []\n",
    "X = StackData(X,\"PM2.5\",data)\n",
    "X = np.dstack([X,X**2])\n",
    "X = np.dstack([X,X**3])\n",
    "X = StackData(X,\"PM10\",data)\n",
    "#print(X)\n",
    "Y = TLprocess(data,\"PM2.5\")\n",
    "TDataDimen = variables#len(X[0,0])\n",
    "TDataLeng = len(X[0])\n",
    "TDataMonth = len(X)\n",
    "#print(Y)"
   ]
  },
  {
   "cell_type": "code",
   "execution_count": 10,
   "metadata": {
    "collapsed": false
   },
   "outputs": [],
   "source": [
    "# train model y = b+wx+Lw^2\n",
    "Bias = 10.0\n",
    "#Xk is {pm_25 if k = 0~8} {pm_10 if k = 9~17} {so2 if k = 18~26} {no2 if k = 27~35}\n",
    "#{nox if k = 36~44} {o3 if k = 45~53}\n",
    "Weight = np.zeros(TDataDimen,float)\n",
    "\n",
    "lr = 1\n",
    "itera = 10000\n",
    "lamda = 0.000\n",
    "\n",
    "B_lr = 0.0\n",
    "W_lr = np.zeros(TDataDimen,float)\n",
    "error_his = []\n",
    "times = []\n",
    "\n",
    "for it in range(itera):\n",
    "    B_grad = 0.0\n",
    "    W_grad = np.zeros(TDataDimen,float)\n",
    "    for i in range(TDataMonth):\n",
    "        for j in range(0,TDataLeng):\n",
    "            L = Y[i*TDataLeng+j]-(Bias+np.dot(X[i,j,0:variables],Weight))\n",
    "            B_grad = B_grad - 2.0*L*1.0\n",
    "            W_grad = W_grad - 2.0*L*X[i,j,0:variables] + lamda*2.0*Weight\n",
    "\n",
    "    B_lr = B_lr+B_grad**2\n",
    "    W_lr = W_lr+W_grad**2\n",
    "    \n",
    "\n",
    "    # Update parameters\n",
    "    Bias = Bias - lr/np.sqrt(B_lr) * B_grad\n",
    "    Weight = Weight - lr/np.sqrt(W_lr)*W_grad\n",
    "    #error=RMSE(Weight,Bias,X,Y,TDataMonth,TDataLeng)\n",
    "    #error_his.append(error)\n",
    "    #times.append(it)\n",
    "#plt.scatter(times[2:],error_his[2:])\n",
    "#plt.show()"
   ]
  },
  {
   "cell_type": "code",
   "execution_count": 11,
   "metadata": {
    "collapsed": false
   },
   "outputs": [
    {
     "name": "stdout",
     "output_type": "stream",
     "text": [
      "Bias : 1.73371187025\n",
      "Weight: [ -3.31918231e-02  -2.59165171e-02   2.18117059e-01  -2.39634842e-01\n",
      "  -5.44907633e-02   5.30830663e-01  -5.72083357e-01   8.04994242e-04\n",
      "   1.09459211e+00]\n"
     ]
    }
   ],
   "source": [
    "print('Bias :',Bias)\n",
    "print('Weight:',Weight)"
   ]
  },
  {
   "cell_type": "code",
   "execution_count": 12,
   "metadata": {
    "collapsed": false,
    "scrolled": true
   },
   "outputs": [
    {
     "name": "stdout",
     "output_type": "stream",
     "text": [
      "Root Mean Square Error: 6.12302152223\n"
     ]
    }
   ],
   "source": [
    "print(\"Root Mean Square Error:\",RMSE(Weight,Bias,X,Y,TDataMonth,TDataLeng))"
   ]
  },
  {
   "cell_type": "code",
   "execution_count": 13,
   "metadata": {
    "collapsed": false
   },
   "outputs": [],
   "source": [
    "tdata = pd.read_csv(\"test_X.csv\",encoding = \"big5\",names = ['1','測項','3','4','5','6','7','8','9','10','11'])\n",
    "\n",
    "PM_25t = tdata[tdata['測項']==\"PM2.5\"]\n",
    "index_temp = np.array(PM_25t)\n",
    "index = index_temp[:,0]\n",
    "\n",
    "Xt = []\n",
    "Xt = TStackData(Xt,\"PM2.5\",tdata)\n",
    "Xt = np.hstack([Xt,Xt**2])\n",
    "Xt = np.hstack([Xt,Xt**3])\n",
    "Xt = TStackData(Xt,\"PM10\",tdata)\n",
    "\n",
    "\n",
    "TrDataDimen = len(Xt[0])\n",
    "TrDataLeng = len(Xt)\n"
   ]
  },
  {
   "cell_type": "code",
   "execution_count": 14,
   "metadata": {
    "collapsed": false
   },
   "outputs": [],
   "source": [
    "result = np.zeros((TrDataLeng),float)\n",
    "for i in range(TrDataLeng):\n",
    "    result[i] = Bias + np.dot(Weight,Xt[i,0:variables])\n",
    "    "
   ]
  },
  {
   "cell_type": "code",
   "execution_count": 15,
   "metadata": {
    "collapsed": false
   },
   "outputs": [
    {
     "name": "stdout",
     "output_type": "stream",
     "text": [
      "         id     value\n",
      "0      id_0   26.5567\n",
      "1      id_1   61.5622\n",
      "2      id_2   20.4769\n",
      "3      id_3   28.5279\n",
      "4      id_4   10.3229\n",
      "5      id_5   36.1825\n",
      "6      id_6   39.4747\n",
      "7      id_7   16.5593\n",
      "8      id_8   47.8124\n",
      "9      id_9   33.2884\n",
      "10    id_10   38.8693\n",
      "11    id_11   58.2873\n",
      "12    id_12   36.5647\n",
      "13    id_13   41.4133\n",
      "14    id_14   26.6085\n",
      "15    id_15      12.7\n",
      "16    id_16   52.6848\n",
      "17    id_17   22.4939\n",
      "18    id_18   19.4213\n",
      "19    id_19   19.7488\n",
      "20    id_20   14.9632\n",
      "21    id_21   28.3559\n",
      "22    id_22    36.771\n",
      "23    id_23    9.3862\n",
      "24    id_24   57.8903\n",
      "25    id_25   44.2575\n",
      "26    id_26   28.3827\n",
      "27    id_27   9.39623\n",
      "28    id_28   29.0928\n",
      "29    id_29   35.6332\n",
      "..      ...       ...\n",
      "210  id_210    28.202\n",
      "211  id_211   72.2947\n",
      "212  id_212   20.6258\n",
      "213  id_213   115.858\n",
      "214  id_214   39.9826\n",
      "215  id_215    83.673\n",
      "216  id_216   92.6621\n",
      "217  id_217   70.6637\n",
      "218  id_218   28.8915\n",
      "219  id_219   18.8906\n",
      "220  id_220     31.82\n",
      "221  id_221   55.3367\n",
      "222  id_222   28.7885\n",
      "223  id_223   39.9677\n",
      "224  id_224   43.6003\n",
      "225  id_225   8.02793\n",
      "226  id_226   4.00914\n",
      "227  id_227   69.3962\n",
      "228  id_228   28.3136\n",
      "229  id_229   1.87947\n",
      "230  id_230    40.442\n",
      "231  id_231    15.376\n",
      "232  id_232    21.816\n",
      "233  id_233   8.34517\n",
      "234  id_234   11.9132\n",
      "235  id_235   22.0753\n",
      "236  id_236    12.734\n",
      "237  id_237  0.422256\n",
      "238  id_238   21.4086\n",
      "239  id_239   1.01201\n",
      "\n",
      "[240 rows x 2 columns]\n"
     ]
    }
   ],
   "source": [
    "final = [index,result]\n",
    "final = np.transpose(final)\n",
    "Final = pd.DataFrame(final,columns = ['id','value'] )\n",
    "print(Final)\n",
    "Final.to_csv(\"hw1.csv\",index = False)"
   ]
  },
  {
   "cell_type": "code",
   "execution_count": null,
   "metadata": {
    "collapsed": true
   },
   "outputs": [],
   "source": []
  }
 ],
 "metadata": {
  "kernelspec": {
   "display_name": "Python 3",
   "language": "python",
   "name": "python3"
  },
  "language_info": {
   "codemirror_mode": {
    "name": "ipython",
    "version": 3
   },
   "file_extension": ".py",
   "mimetype": "text/x-python",
   "name": "python",
   "nbconvert_exporter": "python",
   "pygments_lexer": "ipython3",
   "version": "3.6.0"
  }
 },
 "nbformat": 4,
 "nbformat_minor": 2
}
