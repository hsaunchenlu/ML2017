{
 "cells": [
  {
   "cell_type": "code",
   "execution_count": null,
   "metadata": {
    "collapsed": true
   },
   "outputs": [],
   "source": [
    "import pandas as pd\n",
    "import numpy as np"
   ]
  },
  {
   "cell_type": "code",
   "execution_count": 81,
   "metadata": {
    "collapsed": true
   },
   "outputs": [],
   "source": [
    "data = pd.read_csv(\"train.csv\",encoding = \"big5\")\n",
    "PM_25= data[data[\"測項\"]==\"PM2.5\"]\n"
   ]
  },
  {
   "cell_type": "code",
   "execution_count": 82,
   "metadata": {
    "collapsed": false
   },
   "outputs": [],
   "source": [
    "PM_25=PM_25.drop(['日期','測站','測項'],axis = 1) #axis=1 denotes that we are referring to a column, not a row"
   ]
  },
  {
   "cell_type": "code",
   "execution_count": 83,
   "metadata": {
    "collapsed": false
   },
   "outputs": [
    {
     "name": "stdout",
     "output_type": "stream",
     "text": [
      "[['26' '39' '36' ..., '30' '24' '13']\n",
      " ['21' '23' '30' ..., '19' '22' '26']\n",
      " ['19' '25' '27' ..., '29' '23' '37']\n",
      " ..., \n",
      " ['0' '2' '2' ..., '36' '24' '23']\n",
      " ['14' '16' '13' ..., '0' '7' '7']\n",
      " ['6' '1' '1' ..., '17' '24' '29']]\n"
     ]
    }
   ],
   "source": [
    "PM_25 = np.array(PM_25)\n",
    "print(PM_25)"
   ]
  },
  {
   "cell_type": "code",
   "execution_count": 84,
   "metadata": {
    "collapsed": false
   },
   "outputs": [
    {
     "name": "stdout",
     "output_type": "stream",
     "text": [
      "240\n",
      "24\n"
     ]
    }
   ],
   "source": [
    "datarow = len(PM_25)\n",
    "datacol = len(PM_25[0])\n",
    "print(datarow)\n",
    "print(datacol)"
   ]
  },
  {
   "cell_type": "code",
   "execution_count": 92,
   "metadata": {
    "collapsed": false
   },
   "outputs": [],
   "source": [
    "pm_25=np.reshape(PM_25,(12,480))\n",
    "datarow2 = len(pm_25)\n",
    "datacol2 = len(pm_25[0])\n"
   ]
  },
  {
   "cell_type": "code",
   "execution_count": 129,
   "metadata": {
    "collapsed": false
   },
   "outputs": [
    {
     "name": "stdout",
     "output_type": "stream",
     "text": [
      "1\n",
      "2\n",
      "3\n",
      "4\n",
      "5\n",
      "6\n",
      "7\n",
      "8\n"
     ]
    }
   ],
   "source": [
    "DSpm_25 = np.zeros((datarow2,datacol2,10),float)\n",
    "for i in range(0,datarow2):\n",
    "    for j in range(0,datacol2-9):\n",
    "        for k in range(0,10):\n",
    "            DSpm_25[i,j,k] = pm_25[i,j+k]\n",
    "# put data set in a 12*471*10 array:12 means month\n"
   ]
  },
  {
   "cell_type": "code",
   "execution_count": null,
   "metadata": {
    "collapsed": false
   },
   "outputs": [],
   "source": [
    "# train model y = b+wx\n",
    "b = 100.0\n",
    "w = np.zeros((9),float)\n",
    "lr = 1\n",
    "itera = 1000000\n",
    "b_lr = 0.0\n",
    "w_lr = np.zeros((9),float)\n",
    "b_his = [b]\n",
    "w_his = [w]\n",
    "\n",
    "\n",
    "for it in range(itera):\n",
    "    b_grad = 0.0\n",
    "    w_grad = np.zeros((9),float)\n",
    "    for i in range(datarow2):\n",
    "        for j in range(datacol-9):\n",
    "            X = (DSpm_25[i,j,9] - b - w[0]*DSpm_25[i,j,0]- w[1]*DSpm_25[i,j,1]- w[2]*DSpm_25[i,j,2]- w[3]*DSpm_25[i,j,3]- w[4]*DSpm_25[i,j,4]- w[5]*DSpm_25[i,j,5]- w[6]*DSpm_25[i,j,6]- w[7]*DSpm_25[i,j,7]- w[8]*DSpm_25[i,j,8])\n",
    "            b_grad = b_grad  - 2.0*X*1.0\n",
    "            for k in range(9):\n",
    "                w_grad[k] = w_grad[k]  - 2.0*X*DSpm_25[i,j,k]\n",
    "                \n",
    "    b_lr = b_lr+b_grad**2\n",
    "    b = b - lr/np.sqrt(b_lr) * b_grad\n",
    "    for i in range(9):\n",
    "        w_lr[i] = w_lr[i]+w_grad[i]**2\n",
    "        w[i] = w[i] - lr/np.sqrt(w_lr[i]) * w_grad[i]\n",
    "        \n",
    "            \n",
    "            \n",
    "            \n",
    "    "
   ]
  },
  {
   "cell_type": "code",
   "execution_count": null,
   "metadata": {
    "collapsed": true
   },
   "outputs": [],
   "source": []
  }
 ],
 "metadata": {
  "kernelspec": {
   "display_name": "Python 3",
   "language": "python",
   "name": "python3"
  },
  "language_info": {
   "codemirror_mode": {
    "name": "ipython",
    "version": 3
   },
   "file_extension": ".py",
   "mimetype": "text/x-python",
   "name": "python",
   "nbconvert_exporter": "python",
   "pygments_lexer": "ipython3",
   "version": "3.6.0"
  }
 },
 "nbformat": 4,
 "nbformat_minor": 2
}
