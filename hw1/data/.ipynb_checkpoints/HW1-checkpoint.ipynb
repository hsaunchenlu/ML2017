{
 "cells": [
  {
   "cell_type": "code",
   "execution_count": 1,
   "metadata": {
    "collapsed": true
   },
   "outputs": [],
   "source": [
    "import pandas as pd\n",
    "import numpy as np\n",
    "import csv"
   ]
  },
  {
   "cell_type": "code",
   "execution_count": 2,
   "metadata": {
    "collapsed": false
   },
   "outputs": [],
   "source": [
    "data = pd.read_csv(\"train.csv\",encoding = \"big5\")\n",
    "AMB_TEMP = data[data[\"測項\"]==\"AMB_TEMP\"]\n",
    "CH4 = data[data[\"測項\"]==\"CH4\"]\n",
    "CO = data[data[\"測項\"]==\"CO\"]\n",
    "NMHC = data[data[\"測項\"]==\"NMHC\"]\n",
    "NO = data[data[\"測項\"]==\"NO\"]\n",
    "NO2 = data[data[\"測項\"]==\"NO2\"]\n",
    "NOx = data[data[\"測項\"]==\"NOx\"]\n",
    "O3 = data[data[\"測項\"]==\"O3\"]\n",
    "PM_25= data[data[\"測項\"]==\"PM2.5\"]\n",
    "PM_10 = data[data[\"測項\"]==\"PM10\"]"
   ]
  },
  {
   "cell_type": "code",
   "execution_count": 3,
   "metadata": {
    "collapsed": false
   },
   "outputs": [],
   "source": [
    "AMB_TEMP = AMB_TEMP.drop(['日期','測站','測項'],axis = 1)\n",
    "CH4 = CH4.drop(['日期','測站','測項'],axis = 1)\n",
    "CO = CO.drop(['日期','測站','測項'],axis = 1)\n",
    "NMHC = NMHC.drop(['日期','測站','測項'],axis = 1)\n",
    "NO = NO.drop(['日期','測站','測項'],axis = 1)\n",
    "NO2 = NO2.drop(['日期','測站','測項'],axis = 1)\n",
    "NOx = NOx.drop(['日期','測站','測項'],axis = 1)\n",
    "O3 = O3.drop(['日期','測站','測項'],axis = 1)\n",
    "PM_25=PM_25.drop(['日期','測站','測項'],axis = 1) #axis=1 denotes that we are referring to a column, not a row\n",
    "PM_10 = PM_10.drop(['日期','測站','測項'],axis = 1)"
   ]
  },
  {
   "cell_type": "code",
   "execution_count": 4,
   "metadata": {
    "collapsed": false
   },
   "outputs": [],
   "source": [
    "AMB_TEMP= np.array(AMB_TEMP)\n",
    "CH4 = np.array(CH4)\n",
    "CO = np.array(CO)\n",
    "NMHC = np.array(NMHC)\n",
    "NO = np.array(NO)\n",
    "NO2 = np.array(NO2)\n",
    "NOx = np.array(NOx)\n",
    "O3 = np.array(O3)\n",
    "PM_25 = np.array(PM_25)\n",
    "PM_10 = np.array(PM_10)"
   ]
  },
  {
   "cell_type": "code",
   "execution_count": 5,
   "metadata": {
    "collapsed": false
   },
   "outputs": [],
   "source": [
    "datarow = len(PM_25)\n",
    "datacol = len(PM_25[0])"
   ]
  },
  {
   "cell_type": "code",
   "execution_count": 6,
   "metadata": {
    "collapsed": false
   },
   "outputs": [],
   "source": [
    "amb_temp = np.reshape(AMB_TEMP,(12,480))\n",
    "ch4 = np.reshape(CH4,(12,480))\n",
    "co = np.reshape(CO,(12,480))\n",
    "nmhc = np.reshape(NMHC,(12,480))\n",
    "no = np.reshape(NO,(12,480))\n",
    "no2 = np.reshape(NO2,(12,480))\n",
    "nox = np.reshape(NOx,(12,480))\n",
    "o3 = np.reshape(O3,(12,480))\n",
    "pm_25 = np.reshape(PM_25,(12,480))\n",
    "pm_10 = np.reshape(PM_10,(12,480))\n",
    "datarow2 = len(pm_25)\n",
    "datacol2 = len(pm_25[0])\n"
   ]
  },
  {
   "cell_type": "code",
   "execution_count": 7,
   "metadata": {
    "collapsed": false
   },
   "outputs": [],
   "source": [
    "#data processing\n",
    "DSpm_25 = np.zeros((datarow2,datacol2,10),float)\n",
    "DSpm_10 = np.zeros((datarow2,datacol2,10),float)\n",
    "DSamb_temp = np.zeros_like(DSpm_25,float)\n",
    "DSch4 = np.zeros_like(DSpm_25,float)\n",
    "DSco = np.zeros_like(DSpm_25,float)\n",
    "DSnmhc = np.zeros_like(DSpm_25,float)\n",
    "DSno = np.zeros_like(DSpm_25,float)\n",
    "DSno2 = np.zeros_like(DSpm_25,float)\n",
    "DSnox = np.zeros_like(DSpm_25,float)\n",
    "DSo3 = np.zeros_like(DSpm_25,float)\n",
    "for i in range(0,datarow2):\n",
    "    for j in range(0,datacol2-9):\n",
    "        for k in range(0,10):\n",
    "            DSpm_25[i,j,k] = pm_25[i,j+k]\n",
    "            DSpm_10[i,j,k] = pm_10[i,j+k]\n",
    "            DSamb_temp[i,j,k] = amb_temp[i,j+k]\n",
    "            DSch4[i,j,k] = ch4[i,j+k]\n",
    "            DSco[i,j,k] = co[i,j+k]\n",
    "            DSnmhc[i,j,k] = nmhc[i,j+k]\n",
    "            DSno[i,j,k] = no[i,j+k]\n",
    "            DSno2[i,j,k] = no2[i,j+k]\n",
    "            DSnox[i,j,k] = nox[i,j+k]\n",
    "            DSo3[i,j,k] = o3[i,j+k]\n",
    "# put data set in a 12*471*10 array:12 means month"
   ]
  },
  {
   "cell_type": "code",
   "execution_count": 8,
   "metadata": {
    "collapsed": false
   },
   "outputs": [],
   "source": [
    "# train model y = b+wx+Lw^2\n",
    "b = 10.0\n",
    "w = np.zeros((9),float) #pm25\n",
    "w2 = np.zeros((9),float) #pm10\n",
    "w3 = np.zeros((9),float) #amb_temp\n",
    "w4 = np.zeros((9),float) #ch4\n",
    "w5 = np.zeros((9),float) #co\n",
    "w6 = np.zeros((9),float) #nmhc\n",
    "w7 = np.zeros((9),float) #no\n",
    "w8 = np.zeros((9),float) #no2\n",
    "w9 = np.zeros((9),float) #nox\n",
    "w10 = np.zeros((9),float) #o3\n",
    "\n",
    "lr = 1\n",
    "itera = 10000\n",
    "b_lr = 0.0\n",
    "w_lr = np.zeros((9),float)\n",
    "w2_lr = np.zeros((9),float)\n",
    "w3_lr = np.zeros((9),float)\n",
    "w4_lr = np.zeros((9),float)\n",
    "w5_lr = np.zeros((9),float)\n",
    "w6_lr = np.zeros((9),float)\n",
    "w7_lr = np.zeros((9),float)\n",
    "w8_lr = np.zeros((9),float)\n",
    "w9_lr = np.zeros((9),float)\n",
    "w10_lr = np.zeros((9),float)\n",
    "lamda = 0.0001\n",
    "\n",
    "\n",
    "\n",
    "for it in range(itera):\n",
    "    b_grad = 0.0\n",
    "    w_grad = np.zeros((9),float)\n",
    "    w2_grad = np.zeros((9),float)\n",
    "    w3_grad = np.zeros((9),float)\n",
    "    w4_grad = np.zeros((9),float)\n",
    "    w5_grad = np.zeros((9),float)\n",
    "    w6_grad = np.zeros((9),float)\n",
    "    w7_grad = np.zeros((9),float)\n",
    "    w8_grad = np.zeros((9),float)\n",
    "    w9_grad = np.zeros((9),float)\n",
    "    w10_grad = np.zeros((9),float)\n",
    "    for i in range(datarow2):\n",
    "        for j in range(datacol-9):\n",
    "            X = DSpm_25[i,j,9] - b\n",
    "            for n in range(9):\n",
    "                X=X - w[n]*DSpm_25[i,j,n]#-w2[n]*DSpm_10[i,j,n]#- w3[n]*DSamb_temp[i,j,n]- w4[n]*DSch4[i,j,n]\n",
    "                #X = X - w5[n]*DSco[i,j,n]-w6[n]*DSnmhc[i,j,n]-w7[n]*DSno[i,j,n]-w8[n]*DSno2[i,j,n]\n",
    "                #X=X- w9[n]*DSnox[i,j,n]-w10[n]*DSo3[i,j,n]\n",
    "            b_grad = b_grad  - 2.0*X*1.0\n",
    "            for k in range(9):\n",
    "                w_grad[k] = w_grad[k]  - 2.0*X*DSpm_25[i,j,k]+lamda*2.0*w[k]\n",
    "                #w2_grad[k] = w2_grad[k]  - 2.0*X*DSpm_10[i,j,k]+lamda*2.0*w2[k]\n",
    "                \"\"\"\n",
    "                \n",
    "                w3_grad[k] = w3_grad[k]  - 2.0*X*DSamb_temp[i,j,k]+lamda*2.0*w3[k]\n",
    "                w4_grad[k] = w4_grad[k]  - 2.0*X*DSch4[i,j,k]+lamda*2.0*w4[k]\n",
    "                w5_grad[k] = w5_grad[k]  - 2.0*X*DSco[i,j,k]+lamda*2.0*w5[k]\n",
    "                w6_grad[k] = w6_grad[k]  - 2.0*X*DSnmhc[i,j,k]+lamda*2.0*w6[k]\n",
    "                w7_grad[k] = w7_grad[k]  - 2.0*X*DSno[i,j,k]+lamda*2.0*w7[k]\n",
    "                w8_grad[k] = w8_grad[k]  - 2.0*X*DSno2[i,j,k]+lamda*2.0*w8[k]\n",
    "                w9_grad[k] = w9_grad[k]  - 2.0*X*DSnox[i,j,k]+lamda*2.0*w9[k]\n",
    "                w10_grad[k] = w10_grad[k]  - 2.0*X*DSo3[i,j,k]+lamda*2.0*w10[k]\n",
    "                \n",
    "                \"\"\"\n",
    "                \n",
    "    b_lr = b_lr+b_grad**2\n",
    "    b = b - lr/np.sqrt(b_lr) * b_grad\n",
    "    for i in range(9):\n",
    "        w_lr[i] = w_lr[i]+w_grad[i]**2\n",
    "        w[i] = w[i] - lr/np.sqrt(w_lr[i]) * w_grad[i]\n",
    "        #w2_lr[i] = w2_lr[i]+w2_grad[i]**2\n",
    "        #w2[i] = w2[i] - lr/np.sqrt(w2_lr[i]) * w2_grad[i]\n",
    "        \"\"\"\n",
    "        \n",
    "        w3_lr[i] = w3_lr[i]+w3_grad[i]**2\n",
    "        w3[i] = w3[i] - lr/np.sqrt(w3_lr[i]) * w3_grad[i]\n",
    "        w4_lr[i] = w4_lr[i]+w4_grad[i]**2\n",
    "        w4[i] = w4[i] - lr/np.sqrt(w4_lr[i]) * w4_grad[i]\n",
    "        w5_lr[i] = w5_lr[i]+w5_grad[i]**2\n",
    "        w5[i] = w5[i] - lr/np.sqrt(w5_lr[i]) * w5_grad[i]\n",
    "        w6_lr[i] = w6_lr[i]+w6_grad[i]**2\n",
    "        w6[i] = w6[i] - lr/np.sqrt(w6_lr[i]) * w6_grad[i]\n",
    "        w7_lr[i] = w7_lr[i]+w7_grad[i]**2\n",
    "        w7[i] = w7[i] - lr/np.sqrt(w7_lr[i]) * w7_grad[i]\n",
    "        w8_lr[i] = w8_lr[i]+w8_grad[i]**2\n",
    "        w8[i] = w8[i] - lr/np.sqrt(w8_lr[i]) * w8_grad[i]\n",
    "        w9_lr[i] = w9_lr[i]+w9_grad[i]**2\n",
    "        w9[i] = w9[i] - lr/np.sqrt(w9_lr[i]) * w9_grad[i]\n",
    "        w10_lr[i] = w10_lr[i]+w10_grad[i]**2\n",
    "        w10[i] = w10[i] - lr/np.sqrt(w10_lr[i]) * w10_grad[i]\n",
    "        \n",
    "        \"\"\"\n",
    "            \n",
    "    "
   ]
  },
  {
   "cell_type": "code",
   "execution_count": 9,
   "metadata": {
    "collapsed": false
   },
   "outputs": [],
   "source": [
    "tdata = pd.read_csv(\"test_X.csv\",encoding = \"big5\",names = ['1','2','3','4','5','6','7','8','9','10','11'])\n",
    "PM_25t = tdata[tdata['2']==\"PM2.5\"]\n",
    "PM_10t = tdata[tdata['2']==\"PM10\"]\n",
    "AMB_TEMPt = tdata[tdata['2']==\"AMB_TEMP\"]\n",
    "CH4t = tdata[tdata[\"2\"]==\"CH4\"]\n",
    "COt = tdata[tdata[\"2\"]==\"CO\"]\n",
    "NMHCt = tdata[tdata[\"2\"]==\"NMHC\"]\n",
    "NOt = tdata[tdata[\"2\"]==\"NO\"]\n",
    "NO2t = tdata[tdata[\"2\"]==\"NO2\"]\n",
    "NOxt = tdata[tdata[\"2\"]==\"NOx\"]\n",
    "O3t = tdata[tdata[\"2\"]==\"O3\"]\n",
    "index_temp = np.array(PM_25t)\n",
    "index = index_temp[:,0]\n",
    "    \n",
    "PM_25t=PM_25t.drop(['1','2'],axis = 1)\n",
    "PM_10t=PM_10t.drop(['1','2'],axis = 1)\n",
    "AMB_TEMPt=AMB_TEMPt.drop(['1','2'],axis = 1)\n",
    "CH4t=CH4t.drop(['1','2'],axis = 1)\n",
    "COt=COt.drop(['1','2'],axis = 1)\n",
    "NMHCt=NMHCt.drop(['1','2'],axis = 1)\n",
    "NOt=NOt.drop(['1','2'],axis = 1)\n",
    "NO2t=NO2t.drop(['1','2'],axis = 1)\n",
    "NOxt=NOxt.drop(['1','2'],axis = 1)\n",
    "O3t=O3t.drop(['1','2'],axis = 1)\n",
    "\n",
    "\n",
    "DSpm_25t = np.array(PM_25t,float)\n",
    "DSpm_10t = np.array(PM_10t,float)\n",
    "DSamb_tempt = np.array(AMB_TEMPt,float)\n",
    "DSch4t = np.array(CH4t,float)\n",
    "DScot = np.array(COt,float)\n",
    "DSnmhct = np.array(NMHCt,float)\n",
    "DSnot = np.array(NOt,float)\n",
    "DSno2t = np.array(NO2t,float)\n",
    "DSnoxt =np.array(NOxt,float)\n",
    "DSo3t = np.array(O3t,float)\n",
    "\n",
    "dataTrow = len(DSpm_25t) \n",
    "dataTcol = len(DSpm_25t)"
   ]
  },
  {
   "cell_type": "code",
   "execution_count": 10,
   "metadata": {
    "collapsed": false,
    "scrolled": true
   },
   "outputs": [],
   "source": [
    "result = np.zeros((dataTrow),float)\n",
    "for i in range(dataTrow):\n",
    "    r_temp = 0.0\n",
    "    r_temp = r_temp+b\n",
    "    for j in range(0,9):\n",
    "        r_temp = r_temp+w[j]*DSpm_25t[i,j]#+w2[j]*DSpm_10t[i,j]#+w3[j]*DSamb_tempt[i,j]+w4[j]*DSch4t[i,j]\n",
    "        #r_temp = r_temp+w5[j]*DScot[i,j]+w6[j]*DSnmhct[i,j]+w7[j]*DSnot[i,j]+w8[j]*DSno2t[i,j]\n",
    "        #r_temp = r_temp+w9[j]*DSnoxt[i,j]+w10[j]*DSo3t[i,j]\n",
    "    result[i] = r_temp\n",
    "    \n",
    "#print(result)"
   ]
  },
  {
   "cell_type": "code",
   "execution_count": 11,
   "metadata": {
    "collapsed": false
   },
   "outputs": [
    {
     "name": "stdout",
     "output_type": "stream",
     "text": [
      "         id    value\n",
      "0      id_0  25.4015\n",
      "1      id_1  54.9391\n",
      "2      id_2  19.7639\n",
      "3      id_3  29.8835\n",
      "4      id_4  13.5996\n",
      "5      id_5  35.3292\n",
      "6      id_6  36.5709\n",
      "7      id_7  19.6451\n",
      "8      id_8  48.6774\n",
      "9      id_9  32.4992\n",
      "10    id_10  40.9011\n",
      "11    id_11  55.5311\n",
      "12    id_12  37.8709\n",
      "13    id_13  41.3566\n",
      "14    id_14  21.7227\n",
      "15    id_15  15.4752\n",
      "16    id_16  52.5457\n",
      "17    id_17  23.3616\n",
      "18    id_18  21.7416\n",
      "19    id_19  21.2898\n",
      "20    id_20  17.2963\n",
      "21    id_21  32.9519\n",
      "22    id_22   35.905\n",
      "23    id_23  11.7649\n",
      "24    id_24   57.552\n",
      "25    id_25  44.9451\n",
      "26    id_26  31.0932\n",
      "27    id_27   10.616\n",
      "28    id_28  27.4908\n",
      "29    id_29  37.8414\n",
      "..      ...      ...\n",
      "210  id_210  26.4276\n",
      "211  id_211  66.0746\n",
      "212  id_212  21.7611\n",
      "213  id_213  114.001\n",
      "214  id_214  40.0347\n",
      "215  id_215  79.0877\n",
      "216  id_216  88.3718\n",
      "217  id_217  67.8431\n",
      "218  id_218   33.147\n",
      "219  id_219  18.9918\n",
      "220  id_220  32.2959\n",
      "221  id_221  56.1464\n",
      "222  id_222  30.0467\n",
      "223  id_223  35.9843\n",
      "224  id_224   45.359\n",
      "225  id_225  12.1582\n",
      "226  id_226  2.76539\n",
      "227  id_227  64.7678\n",
      "228  id_228  30.6391\n",
      "229  id_229  3.74039\n",
      "230  id_230  41.0574\n",
      "231  id_231  15.2274\n",
      "232  id_232  22.1576\n",
      "233  id_233   8.9491\n",
      "234  id_234  14.4815\n",
      "235  id_235  22.2133\n",
      "236  id_236  14.2101\n",
      "237  id_237  3.93236\n",
      "238  id_238  22.8779\n",
      "239  id_239  2.21982\n",
      "\n",
      "[240 rows x 2 columns]\n"
     ]
    }
   ],
   "source": [
    "final = [index,result]\n",
    "final = np.transpose(final)\n",
    "Final = pd.DataFrame(final,columns = ['id','value'] )\n",
    "print(Final)"
   ]
  },
  {
   "cell_type": "code",
   "execution_count": 12,
   "metadata": {
    "collapsed": false
   },
   "outputs": [],
   "source": [
    "Final.to_csv(\"hw1.csv\",index = False)"
   ]
  },
  {
   "cell_type": "code",
   "execution_count": null,
   "metadata": {
    "collapsed": true
   },
   "outputs": [],
   "source": []
  },
  {
   "cell_type": "code",
   "execution_count": null,
   "metadata": {
    "collapsed": true
   },
   "outputs": [],
   "source": []
  },
  {
   "cell_type": "code",
   "execution_count": null,
   "metadata": {
    "collapsed": true
   },
   "outputs": [],
   "source": []
  },
  {
   "cell_type": "code",
   "execution_count": null,
   "metadata": {
    "collapsed": true
   },
   "outputs": [],
   "source": []
  }
 ],
 "metadata": {
  "kernelspec": {
   "display_name": "Python 3",
   "language": "python",
   "name": "python3"
  },
  "language_info": {
   "codemirror_mode": {
    "name": "ipython",
    "version": 3
   },
   "file_extension": ".py",
   "mimetype": "text/x-python",
   "name": "python",
   "nbconvert_exporter": "python",
   "pygments_lexer": "ipython3",
   "version": "3.6.0"
  }
 },
 "nbformat": 4,
 "nbformat_minor": 2
}
